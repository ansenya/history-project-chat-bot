{
 "cells": [
  {
   "metadata": {},
   "cell_type": "markdown",
   "source": "# Connect",
   "id": "16f6ded47b918c0"
  },
  {
   "cell_type": "code",
   "id": "initial_id",
   "metadata": {
    "collapsed": true
   },
   "source": [
    "from qdrant_client import QdrantClient\n",
    "from qdrant_client.models import Distance, VectorParams\n",
    "\n",
    "client = QdrantClient(\"localhost\", port=6333)\n",
    "\n",
    "if not client.collection_exists(\"articles\"):\n",
    "    client.create_collection(\n",
    "        collection_name=\"articles\",\n",
    "        vectors_config=VectorParams(size=384, distance=Distance.COSINE),\n",
    "    )"
   ],
   "outputs": [],
   "execution_count": null
  },
  {
   "metadata": {},
   "cell_type": "markdown",
   "source": "# Add data",
   "id": "a903f043a461af59"
  },
  {
   "metadata": {},
   "cell_type": "code",
   "source": [
    "import requests\n",
    "\n",
    "\n",
    "def get_response(messages):\n",
    "    request = {\n",
    "        \"model\": \"qwen2.5:3b\",\n",
    "        \"messages\": messages,\n",
    "        \"stream\": False,\n",
    "        \"options\": {\n",
    "            \"temperature\": 1.0,\n",
    "        },\n",
    "    }\n",
    "\n",
    "    response = requests.post(\"http://localhost:11434/api/chat\", json=request)\n",
    "    if response.status_code != 200:\n",
    "        raise Exception(response.text)\n",
    "    return response.json()\n"
   ],
   "id": "9f84428b5edab727",
   "outputs": [],
   "execution_count": null
  },
  {
   "metadata": {},
   "cell_type": "code",
   "source": [
    "import pandas as pd\n",
    "\n",
    "df = pd.read_csv(\"articles.csv\")\n",
    "df[[\"link\", \"title\", \"text\"]]"
   ],
   "id": "bb9d7233d103091b",
   "outputs": [],
   "execution_count": null
  },
  {
   "metadata": {},
   "cell_type": "code",
   "source": [
    "from sentence_transformers import SentenceTransformer\n",
    "import pandas as pd\n",
    "import tqdm\n",
    "\n",
    "model = SentenceTransformer(\"paraphrase-multilingual-MiniLM-L12-v2\")\n",
    "\n",
    "df = pd.read_csv(\"/Users/senya/projects/history-project/test/articles.csv\")\n",
    "articles = df[[\"link\", \"title\", \"text\"]].to_dict(orient=\"records\")\n",
    "\n",
    "for i, article in tqdm.tqdm(enumerate(articles[:20])):\n",
    "# for i, article in tqdm.tqdm(enumerate([{\n",
    "#     \"title\": \"List of mass stabbings in the United States\",\n",
    "#     \"text\": ''' This is an incomplete list of mass stabbings in the United States. A mass stabbing is a single incident in which multiple victims are harmed or killed in a knife-enabled crime. In such attacks, sharp objects are thrust at the victim, piercing through the skin and harming the victim.[1] Examples of sharp instruments used in mass stabbings may include kitchen knives, utility knives, sheath knives, scissors, Katanas, hammers, screwdrivers, icepicks, bayonets, axes, machetes and glass bottles.[1] Knife crime poses security threats to many countries around the world.[1]\n",
    "#\n",
    "# A mass stabbing can be defined from a number of different perspectives. The Oxford English Dictionary defines the verb ‘stab’ as an action that propels a pointed weapon with the intention of harm or murder.[2] A mass stabbing is an incident involving the use of pointed weapons to wound or kill multiple people. Mass stabbings can also be looked at from the scope of knife crime. Based on a publication by the Parliament of the United Kingdom, ‘knife-enabled crime’ is an incident where harm is threatened or caused with the use of bladed weapons.[3] The media also refers to ‘knife crime’ as a stabbing incident or the illegal possession of knives by a person in the public.[3]\n",
    "#\n",
    "# From a legal perspective, the phrase mass killing can be used to define a mass stabbing. Based on section 2 of the Investigative Assistance for Violent Crimes Act of 2012 of the United States of America, which was signed into law and published by the US Congress on 13 January 2013, ‘mass killing’ is an individual occasion with three or more people murdered.[4] Mass stabbings can also be looked at from the perspective of mass murder. The Federal Bureau of Investigation (FBI) of the United States of America has defined mass murder as an incident where four or more people are killed in a single incident on a continuing basis without any significant time period in between each of the murders.[5]\n",
    "#\n",
    "# High-profile crimes in the United States in which multiple people were stabbed are listed here. According to a database published by USA Today, as of March 5, 2024, 44 mass murders in the United States since 2006 involved a knife, and 44 involved another sharp object.[6] ''',\n",
    "#     \"link\": \"https://en.wikipedia.org/wiki/List_of_mass_stabbings_in_the_United_States\"\n",
    "# }])):\n",
    "    # Создаём embedding на основе заголовка + текста статьи\n",
    "    embedding = model.encode(f\"{article['title']} {article['text']}\").tolist()\n",
    "\n",
    "    # Сохраняем в Qdrant\n",
    "    summary = get_response([\n",
    "        {\n",
    "            \"role\": \"system\",\n",
    "            \"content\": \"summarize text. maximum 250 words. write only summary.\",\n",
    "        },\n",
    "        {\n",
    "            \"role\": \"user\",\n",
    "            \"content\": article[\"text\"],\n",
    "        },\n",
    "    ])[\"message\"][\"content\"]\n",
    "    client.upsert(\n",
    "        collection_name=\"articles\",\n",
    "        points=[\n",
    "            {\n",
    "                \"id\": i,\n",
    "                \"vector\": embedding,\n",
    "                \"payload\": {\n",
    "                    \"id\": i,\n",
    "                    \"title\": article[\"title\"],\n",
    "                    \"text\": article[\"text\"],\n",
    "                    \"summarized_text\": summary,\n",
    "                    \"url\": article[\"link\"],\n",
    "                },\n",
    "            }\n",
    "        ],\n",
    "    )\n"
   ],
   "id": "6f6cd303225fca33",
   "outputs": [],
   "execution_count": null
  },
  {
   "metadata": {},
   "cell_type": "markdown",
   "source": "# Search",
   "id": "25c5635bf3fc0bc1"
  },
  {
   "metadata": {},
   "cell_type": "code",
   "source": [
    "query = \"я хочу узнать про гаити. расскажи, пожалуйста\"\n",
    "query_vector = model.encode(query).tolist()\n",
    "\n",
    "search_results = client.search(\n",
    "    collection_name=\"articles\",\n",
    "    query_vector=query_vector,\n",
    ")\n",
    "\n",
    "for result in search_results:\n",
    "    print(result.score)\n",
    "    print(f\"🔹 {result.payload['title']}\")\n",
    "    print(f\"🔗 {result.payload['url']}\")\n",
    "    print(f\"📄 {result.payload['text'][:200]}...\\n\")"
   ],
   "id": "ca7e15c14992e19",
   "outputs": [],
   "execution_count": null
  }
 ],
 "metadata": {
  "kernelspec": {
   "display_name": "Python 3",
   "language": "python",
   "name": "python3"
  },
  "language_info": {
   "codemirror_mode": {
    "name": "ipython",
    "version": 2
   },
   "file_extension": ".py",
   "mimetype": "text/x-python",
   "name": "python",
   "nbconvert_exporter": "python",
   "pygments_lexer": "ipython2",
   "version": "2.7.6"
  }
 },
 "nbformat": 4,
 "nbformat_minor": 5
}
